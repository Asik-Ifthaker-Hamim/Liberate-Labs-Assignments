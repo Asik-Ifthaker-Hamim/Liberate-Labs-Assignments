{
 "cells": [
  {
   "cell_type": "code",
   "execution_count": 108,
   "metadata": {},
   "outputs": [],
   "source": [
    "import requests\n",
    "import rich\n",
    "import re"
   ]
  },
  {
   "cell_type": "code",
   "execution_count": 109,
   "metadata": {},
   "outputs": [],
   "source": [
    "# Function to fetch the current stock price using Alpha Vantage\n",
    "def get_stock_price(symbol, api_key):\n",
    "    try:\n",
    "        # Alpha Vantage API URL\n",
    "        url = f\"https://www.alphavantage.co/query?function=TIME_SERIES_INTRADAY&symbol={symbol}&interval=1min&apikey={api_key}\"\n",
    "        response = requests.get(url)\n",
    "        data = response.json()\n",
    "        \n",
    "        # Check if the response contains stock data\n",
    "        if \"Time Series (1min)\" in data:\n",
    "            # Extract the latest stock price (most recent time point)\n",
    "            latest_time = list(data[\"Time Series (1min)\"].keys())[0]\n",
    "            latest_data = data[\"Time Series (1min)\"][latest_time]\n",
    "            price = latest_data[\"1. open\"]  # Taking the 'open' price as current\n",
    "\n",
    "            return f\"The current price of {symbol.upper()} is ${price}.\"\n",
    "        else:\n",
    "            return \"Invalid stock symbol or data not available.\"\n",
    "    except requests.exceptions.RequestException as e:\n",
    "        return f\"Error: {str(e)}\""
   ]
  },
  {
   "cell_type": "code",
   "execution_count": 110,
   "metadata": {},
   "outputs": [],
   "source": [
    "import re\n",
    "\n",
    "# Function to process user input and extract the stock symbol\n",
    "def process_user_input(user_input):\n",
    "    # Match patterns like: price of AAPL, current price for TSLA, stock price MSFT, etc.\n",
    "    match = re.search(r'(?:stock price|price|trading at|current price)\\s*(?:of|for)?\\s*(\\b[A-Z]{1,5}\\b)', user_input, re.IGNORECASE)\n",
    "    \n",
    "    if match:\n",
    "        symbol = match.group(1).upper()  # Extracted symbol\n",
    "        return symbol\n",
    "    else:\n",
    "        return None\n"
   ]
  },
  {
   "cell_type": "code",
   "execution_count": 111,
   "metadata": {},
   "outputs": [],
   "source": [
    "# Stock price function (just added)\n",
    "def invoke_stock_price(symbol):\n",
    "    stock_price = get_stock_price(symbol, \"TCNZL48AQVQJXADP\")  # Use your Alpha Vantage API key\n",
    "    return stock_price"
   ]
  },
  {
   "cell_type": "code",
   "execution_count": 112,
   "metadata": {},
   "outputs": [],
   "source": [
    "# Function to fetch the current cryptocurrency price\n",
    "def get_crypto_price(crypto_symbol):\n",
    "    try:\n",
    "        response = requests.get(f\"https://api.coingecko.com/api/v3/simple/price?ids={crypto_symbol}&vs_currencies=usd\")\n",
    "        response.raise_for_status()\n",
    "        data = response.json()\n",
    "        price = data.get(crypto_symbol, {}).get('usd')\n",
    "        return price if price else \"Price not found\"\n",
    "    except requests.exceptions.RequestException as e:\n",
    "        return f\"API request failed: {e}\"\n"
   ]
  },
  {
   "cell_type": "code",
   "execution_count": 113,
   "metadata": {},
   "outputs": [],
   "source": [
    "import requests\n",
    "\n",
    "def invoke_crypto_price(crypto_symbol):\n",
    "    try:\n",
    "        url = f\"https://api.coingecko.com/api/v3/simple/price?ids={crypto_symbol}&vs_currencies=usd\"\n",
    "        response = requests.get(url)\n",
    "        response.raise_for_status()\n",
    "\n",
    "        data = response.json()\n",
    "        price = data.get(crypto_symbol, {}).get('usd')\n",
    "\n",
    "        if price:\n",
    "            return f\"The current price of {crypto_symbol.replace('-', ' ').title()} is ${price} USD.\"\n",
    "        else:\n",
    "            return f\"Sorry, I couldn't find the price for {crypto_symbol}.\"\n",
    "\n",
    "    except requests.exceptions.RequestException as e:\n",
    "        print(f\"API request failed: {e}\")\n",
    "        return \"Sorry, there was an issue fetching the crypto price.\"\n"
   ]
  },
  {
   "cell_type": "code",
   "execution_count": 114,
   "metadata": {},
   "outputs": [],
   "source": [
    "# Function to fetch the price of gold or silver\n",
    "def make_gapi_request(metal=\"XAU\"):  # XAU for gold, XAG for silver\n",
    "    api_key = \"goldapi-fwvgfsm6oqtc0i-io\"\n",
    "    curr = \"USD\"  # Always USD for this example\n",
    "    date = \"\"  # If you need a specific date, you can add it here\n",
    "\n",
    "    url = f\"https://www.goldapi.io/api/{metal}/{curr}{date}\"\n",
    "    \n",
    "    headers = {\n",
    "        \"x-access-token\": api_key,\n",
    "        \"Content-Type\": \"application/json\"\n",
    "    }\n",
    "\n",
    "    try:\n",
    "        response = requests.get(url, headers=headers)\n",
    "        response.raise_for_status()  # Raise an error for bad responses (e.g., 400, 403, etc.)\n",
    "\n",
    "        result = response.json()\n",
    "        if 'price' in result:\n",
    "            return result['price']\n",
    "        else:\n",
    "            return \"Price not found in the response.\"\n",
    "    except requests.exceptions.RequestException as e:\n",
    "        return \"Sorry, I couldn't fetch the metal price at the moment.\""
   ]
  },
  {
   "cell_type": "code",
   "execution_count": 115,
   "metadata": {},
   "outputs": [],
   "source": [
    "def get_metal_price(metal=\"gold\"):\n",
    "    metal_symbol = \"XAU\" if metal == \"gold\" else \"XAG\"  # XAU for Gold, XAG for Silver\n",
    "    return make_gapi_request(metal_symbol)\n",
    "\n",
    "def invoke_metal_price(metal=\"gold\"):\n",
    "    metal_price = get_metal_price(metal)\n",
    "    if metal_price is not None:\n",
    "        return f\"The current price of {metal.capitalize()} is ${metal_price} USD per ounce.\"\n",
    "    else:\n",
    "        return f\"Sorry, I couldn't fetch the {metal} price at the moment.\""
   ]
  },
  {
   "cell_type": "code",
   "execution_count": 116,
   "metadata": {},
   "outputs": [],
   "source": [
    "# Correct Mapping of Common Cryptocurrencies to CoinGecko IDs\n",
    "CRYPTOCURRENCY_MAP = {\n",
    "    \"bitcoin\": \"bitcoin\",\n",
    "    \"btc\": \"bitcoin\",\n",
    "    \"ethereum\": \"ethereum\",\n",
    "    \"eth\": \"ethereum\",\n",
    "    \"dogecoin\": \"dogecoin\",\n",
    "    \"doge\": \"dogecoin\",\n",
    "    \"ripple\": \"ripple\",\n",
    "    \"xrp\": \"ripple\",\n",
    "    \"litecoin\": \"litecoin\",\n",
    "    \"ltc\": \"litecoin\",\n",
    "    \"cardano\": \"cardano\",\n",
    "    \"ada\": \"cardano\",\n",
    "    \"polkadot\": \"polkadot\",\n",
    "    \"dot\": \"polkadot\",\n",
    "    \"solana\": \"solana\",\n",
    "    \"sol\": \"solana\",\n",
    "    \"binance coin\": \"binancecoin\",\n",
    "    \"bnb\": \"binancecoin\",\n",
    "    \"shiba inu\": \"shiba-inu\",\n",
    "    \"shib\": \"shiba-inu\"\n",
    "}\n"
   ]
  },
  {
   "cell_type": "code",
   "execution_count": 117,
   "metadata": {},
   "outputs": [],
   "source": [
    "def process_tool(user_input, api_key):\n",
    "    user_input_lower = user_input.lower()\n",
    "\n",
    "    # Check for stock price queries\n",
    "    if \"stock price\" in user_input_lower or \"price\" in user_input_lower or \"trading at\" in user_input_lower:\n",
    "        symbol = process_user_input(user_input)\n",
    "        if symbol:\n",
    "            return get_stock_price(symbol, api_key)\n",
    "        else:\n",
    "            return \"Sorry, I couldn't understand the stock symbol from your input. Please try again.\"\n",
    "\n",
    "    # Check for gold or silver queries\n",
    "    elif \"gold\" in user_input_lower:\n",
    "        return invoke_metal_price(\"gold\")\n",
    "    elif \"silver\" in user_input_lower:\n",
    "        return invoke_metal_price(\"silver\")\n",
    "\n",
    "    # Check for crypto price queries\n",
    "    for crypto_name, crypto_symbol in CRYPTOCURRENCY_MAP.items():\n",
    "        if crypto_name in user_input_lower:\n",
    "            return invoke_crypto_price(crypto_symbol)\n",
    "\n",
    "    return \"Sorry, I couldn't understand your query. Please ask about stock price, gold, silver, or crypto.\"\n"
   ]
  },
  {
   "cell_type": "code",
   "execution_count": 118,
   "metadata": {},
   "outputs": [],
   "source": [
    "\n",
    "# Main loop for user input handling\n",
    "def main():\n",
    "    api_key = \"TCNZL48AQVQJXADP\"  # Replace with your actual API key\n",
    "    print(\"Welcome! You can ask about stock prices, gold, silver, or cryptocurrency prices.\")\n",
    "    print(\"To exit, type 'exit'.\\n\")\n",
    "    \n",
    "    while True:\n",
    "        # Get user input\n",
    "        user_input = input(\"Please enter your query: \").strip()\n",
    "        \n",
    "        # Check if the user wants to exit\n",
    "        if user_input.lower() == \"exit\":\n",
    "            print(\"Goodbye!\")\n",
    "            break\n",
    "        \n",
    "        # Process the user input and fetch relevant information\n",
    "        response = process_tool(user_input, api_key)\n",
    "        \n",
    "        # Display the result\n",
    "        rich.print(response)"
   ]
  },
  {
   "cell_type": "code",
   "execution_count": 119,
   "metadata": {},
   "outputs": [
    {
     "name": "stdout",
     "output_type": "stream",
     "text": [
      "Welcome! You can ask about stock prices, gold, silver, or cryptocurrency prices.\n",
      "To exit, type 'exit'.\n",
      "\n"
     ]
    },
    {
     "data": {
      "text/html": [
       "<pre style=\"white-space:pre;overflow-x:auto;line-height:normal;font-family:Menlo,'DejaVu Sans Mono',consolas,'Courier New',monospace\">The current price of TSLA is $<span style=\"color: #008080; text-decoration-color: #008080; font-weight: bold\">402.0100</span>.\n",
       "</pre>\n"
      ],
      "text/plain": [
       "The current price of TSLA is $\u001b[1;36m402.0100\u001b[0m.\n"
      ]
     },
     "metadata": {},
     "output_type": "display_data"
    },
    {
     "data": {
      "text/html": [
       "<pre style=\"white-space:pre;overflow-x:auto;line-height:normal;font-family:Menlo,'DejaVu Sans Mono',consolas,'Courier New',monospace\">The current price of GOOGL is $<span style=\"color: #008080; text-decoration-color: #008080; font-weight: bold\">202.8000</span>.\n",
       "</pre>\n"
      ],
      "text/plain": [
       "The current price of GOOGL is $\u001b[1;36m202.8000\u001b[0m.\n"
      ]
     },
     "metadata": {},
     "output_type": "display_data"
    },
    {
     "data": {
      "text/html": [
       "<pre style=\"white-space:pre;overflow-x:auto;line-height:normal;font-family:Menlo,'DejaVu Sans Mono',consolas,'Courier New',monospace\">Invalid stock symbol or data not available.\n",
       "</pre>\n"
      ],
      "text/plain": [
       "Invalid stock symbol or data not available.\n"
      ]
     },
     "metadata": {},
     "output_type": "display_data"
    },
    {
     "data": {
      "text/html": [
       "<pre style=\"white-space:pre;overflow-x:auto;line-height:normal;font-family:Menlo,'DejaVu Sans Mono',consolas,'Courier New',monospace\">The current price of Bitcoin is $<span style=\"color: #008080; text-decoration-color: #008080; font-weight: bold\">95732</span> USD.\n",
       "</pre>\n"
      ],
      "text/plain": [
       "The current price of Bitcoin is $\u001b[1;36m95732\u001b[0m USD.\n"
      ]
     },
     "metadata": {},
     "output_type": "display_data"
    },
    {
     "data": {
      "text/html": [
       "<pre style=\"white-space:pre;overflow-x:auto;line-height:normal;font-family:Menlo,'DejaVu Sans Mono',consolas,'Courier New',monospace\">The current price of Ethereum is $<span style=\"color: #008080; text-decoration-color: #008080; font-weight: bold\">2589.37</span> USD.\n",
       "</pre>\n"
      ],
      "text/plain": [
       "The current price of Ethereum is $\u001b[1;36m2589.37\u001b[0m USD.\n"
      ]
     },
     "metadata": {},
     "output_type": "display_data"
    },
    {
     "name": "stdout",
     "output_type": "stream",
     "text": [
      "Goodbye!\n"
     ]
    }
   ],
   "source": [
    "# Run the main function\n",
    "if __name__ == \"__main__\":\n",
    "    main()\n"
   ]
  }
 ],
 "metadata": {
  "kernelspec": {
   "display_name": "base",
   "language": "python",
   "name": "python3"
  },
  "language_info": {
   "codemirror_mode": {
    "name": "ipython",
    "version": 3
   },
   "file_extension": ".py",
   "mimetype": "text/x-python",
   "name": "python",
   "nbconvert_exporter": "python",
   "pygments_lexer": "ipython3",
   "version": "3.12.8"
  }
 },
 "nbformat": 4,
 "nbformat_minor": 2
}
