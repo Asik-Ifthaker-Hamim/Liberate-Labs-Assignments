{
 "cells": [
  {
   "cell_type": "code",
   "execution_count": 394,
   "metadata": {},
   "outputs": [
    {
     "name": "stdout",
     "output_type": "stream",
     "text": [
      "Requirement already satisfied: langchainhub in c:\\users\\user\\miniforge3\\lib\\site-packages (0.1.21)\n",
      "Requirement already satisfied: packaging<25,>=23.2 in c:\\users\\user\\miniforge3\\lib\\site-packages (from langchainhub) (24.2)\n",
      "Requirement already satisfied: requests<3,>=2 in c:\\users\\user\\miniforge3\\lib\\site-packages (from langchainhub) (2.32.3)\n",
      "Requirement already satisfied: types-requests<3.0.0.0,>=2.31.0.2 in c:\\users\\user\\miniforge3\\lib\\site-packages (from langchainhub) (2.32.0.20241016)\n",
      "Requirement already satisfied: charset_normalizer<4,>=2 in c:\\users\\user\\miniforge3\\lib\\site-packages (from requests<3,>=2->langchainhub) (3.4.1)\n",
      "Requirement already satisfied: idna<4,>=2.5 in c:\\users\\user\\miniforge3\\lib\\site-packages (from requests<3,>=2->langchainhub) (3.10)\n",
      "Requirement already satisfied: urllib3<3,>=1.21.1 in c:\\users\\user\\miniforge3\\lib\\site-packages (from requests<3,>=2->langchainhub) (2.3.0)\n",
      "Requirement already satisfied: certifi>=2017.4.17 in c:\\users\\user\\miniforge3\\lib\\site-packages (from requests<3,>=2->langchainhub) (2024.12.14)\n"
     ]
    }
   ],
   "source": [
    "!pip install langchainhub"
   ]
  },
  {
   "cell_type": "code",
   "execution_count": 395,
   "metadata": {},
   "outputs": [
    {
     "name": "stdout",
     "output_type": "stream",
     "text": [
      "Requirement already satisfied: pytz in c:\\users\\user\\miniforge3\\lib\\site-packages (2025.1)\n"
     ]
    }
   ],
   "source": [
    "!pip install pytz"
   ]
  },
  {
   "cell_type": "code",
   "execution_count": 396,
   "metadata": {},
   "outputs": [],
   "source": [
    "from langchain_groq import ChatGroq\n",
    "from langchain_core.prompts import PromptTemplate\n",
    "from langchain.schema.output_parser import StrOutputParser\n",
    "from langchain import hub\n",
    "from langchain.agents import create_react_agent, AgentExecutor\n",
    "from langchain.schema.runnable import RunnablePassthrough\n",
    "from langchain.memory import ChatMessageHistory\n",
    "import datetime\n",
    "from langchain.agents import tool\n",
    "import requests\n",
    "import pytz"
   ]
  },
  {
   "cell_type": "code",
   "execution_count": 397,
   "metadata": {},
   "outputs": [],
   "source": [
    "@tool\n",
    "def get_system_time(format: str = \"%y-%m-%d %H:%M:%S\"):\n",
    "    \"\"\"Returns the current date and time in the specified format\"\"\"\n",
    "    \n",
    "    current_time = datetime.datetime.now()\n",
    "    formatted_time= current_time.strftime(format)\n",
    "    return formatted_time\n",
    "    "
   ]
  },
  {
   "cell_type": "code",
   "execution_count": 398,
   "metadata": {},
   "outputs": [],
   "source": [
    "@tool\n",
    "def get_current_location():\n",
    "    \"\"\"Returns the current location (city and country) based on the user's IP address.\"\"\"\n",
    "    try:\n",
    "        response = requests.get(\"https://ipinfo.io\")\n",
    "        data = response.json()\n",
    "        city = data.get(\"city\", \"Unknown City\")\n",
    "        country = data.get(\"country\", \"Unknown Country\")\n",
    "        return f\"Current location: {city}, {country}\"\n",
    "    except Exception as e:\n",
    "        return f\"Error fetching location: {e}\""
   ]
  },
  {
   "cell_type": "code",
   "execution_count": 399,
   "metadata": {},
   "outputs": [],
   "source": [
    "@tool\n",
    "def get_current_weather(location: str):\n",
    "    \"\"\"Returns the current weather for the specified location.\"\"\"\n",
    "    try:\n",
    "        # Use OpenWeatherMap API (replace 'your_api_key' with your actual API key)\n",
    "        api_key = \"b00cec05979ffc064beabca84270ef62\"\n",
    "        url = f\"http://api.openweathermap.org/data/2.5/weather?q={location}&appid={api_key}&units=metric\"\n",
    "        response = requests.get(url)\n",
    "        data = response.json()\n",
    "\n",
    "        if data.get(\"cod\") != 200:\n",
    "            return f\"Error: {data.get('message', 'Unknown error')}\"\n",
    "\n",
    "        weather = data[\"weather\"][0][\"description\"]\n",
    "        temperature = data[\"main\"][\"temp\"]\n",
    "        humidity = data[\"main\"][\"humidity\"]\n",
    "        return f\"Weather in {location}: {weather}, Temperature: {temperature}°C, Humidity: {humidity}%\"\n",
    "    except Exception as e:\n",
    "        return f\"Error fetching weather: {e}\""
   ]
  },
  {
   "cell_type": "code",
   "execution_count": 400,
   "metadata": {},
   "outputs": [],
   "source": [
    "@tool\n",
    "def get_time_in_timezone(timezone: str, format: str = \"%y-%m-%d %H:%M:%S\"):\n",
    "    \"\"\"\n",
    "    Returns the current time in the specified timezone.\n",
    "    \n",
    "    Args:\n",
    "        timezone (str): The timezone (e.g., \"Europe/London\").\n",
    "        format (str): The format of the output time string.\n",
    "    \n",
    "    Returns:\n",
    "        str: The current time in the specified timezone.\n",
    "    \"\"\"\n",
    "    try:\n",
    "        tz = pytz.timezone(timezone)\n",
    "        current_time = datetime.datetime.now(tz)\n",
    "        formatted_time = current_time.strftime(format)\n",
    "        return f\"The current time in {timezone} is: {formatted_time}\"\n",
    "    except pytz.UnknownTimeZoneError:\n",
    "        return f\"Unknown timezone: {timezone}\""
   ]
  },
  {
   "cell_type": "code",
   "execution_count": 401,
   "metadata": {},
   "outputs": [],
   "source": [
    "llm = ChatGroq(model=\"llama3-8b-8192\",api_key=\"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\")"
   ]
  },
  {
   "cell_type": "code",
   "execution_count": 402,
   "metadata": {},
   "outputs": [],
   "source": [
    "tools = [get_system_time, get_current_location, get_current_weather,get_time_in_timezone]"
   ]
  },
  {
   "cell_type": "code",
   "execution_count": 403,
   "metadata": {},
   "outputs": [
    {
     "name": "stderr",
     "output_type": "stream",
     "text": [
      "c:\\Users\\USER\\miniforge3\\Lib\\site-packages\\langsmith\\client.py:253: LangSmithMissingAPIKeyWarning: API key must be provided when using hosted LangSmith API\n",
      "  warnings.warn(\n"
     ]
    }
   ],
   "source": [
    "# Create the agent\n",
    "prompt_template = hub.pull(\"hwchase17/react\")"
   ]
  },
  {
   "cell_type": "code",
   "execution_count": 404,
   "metadata": {},
   "outputs": [],
   "source": [
    "agent =create_react_agent(llm,tools,prompt_template)\n",
    "agent_executer= AgentExecutor(agent=agent,tools=tools,verbose=True)"
   ]
  },
  {
   "cell_type": "code",
   "execution_count": 405,
   "metadata": {},
   "outputs": [],
   "source": [
    "query = \"What is the current weather in London?\""
   ]
  },
  {
   "cell_type": "code",
   "execution_count": 406,
   "metadata": {},
   "outputs": [
    {
     "name": "stdout",
     "output_type": "stream",
     "text": [
      "\n",
      "\n",
      "\u001b[1m> Entering new AgentExecutor chain...\u001b[0m\n",
      "\u001b[32;1m\u001b[1;3mThought: To determine the current weather in London, I'll first need to get the current location, which is London. Then, I can use the current location to get the current weather.\n",
      "\n",
      "Action: get_current_location\n",
      "Action Input: None\u001b[0m\u001b[33;1m\u001b[1;3mCurrent location: Chattogram, BD\u001b[0m\u001b[32;1m\u001b[1;3mIt seems that I made a mistake! I was expecting to get \"London\" as the current location, but instead, I got \"Chattogram, BD\". This is because I'm using the user's IP address to determine the location, which might not always be accurate.\n",
      "\n",
      "Action: get_current_location\n",
      "Action Input: None\u001b[0m\u001b[33;1m\u001b[1;3mCurrent location: Chattogram, BD\u001b[0m\u001b[32;1m\u001b[1;3mThought: Hmm, it seems that I'm still getting the same location, \"Chattogram, BD\", which is not what I want. I'll try to get the current weather for \"Chattogram, BD\" to see if that's what I really need.\n",
      "\n",
      "Action: get_current_weather\n",
      "Action Input: Chattogram, BD\u001b[0m\u001b[38;5;200m\u001b[1;3mError: city not found\u001b[0m\u001b[32;1m\u001b[1;3mHere's the continuation of the thought process:\n",
      "\n",
      "Thought: Oh no! It seems that the city \"Chattogram, BD\" is not found. This means that the current location is not accurate. I need to find a way to get the current weather for London.\n",
      "\n",
      "Action: get_system_time\n",
      "Action Input: None\u001b[0m\u001b[36;1m\u001b[1;3mNone\u001b[0m\u001b[32;1m\u001b[1;3mThought: Ah, I got the current system time. That's not what I need right now, but I'll keep it in mind.\n",
      "\n",
      "Action: get_time_in_timezone\n",
      "Action Input: Europe/London\u001b[0m\u001b[36;1m\u001b[1;3mThe current time in Europe/London is: 25-02-04 02:49:54\u001b[0m\u001b[32;1m\u001b[1;3mHere's the continuation of the thought process:\n",
      "\n",
      "Thought: Now that I have the correct timezone, I can use it to get the current time in London. That's not what I need right now, but I'll keep it in mind.\n",
      "\n",
      "Action: get_current_weather\n",
      "Action Input: London\u001b[0m\u001b[38;5;200m\u001b[1;3mWeather in London: few clouds, Temperature: 6.75°C, Humidity: 91%\u001b[0m\u001b[32;1m\u001b[1;3mThought: I now know the final answer!\n",
      "\n",
      "Final Answer: The current weather in London is: few clouds, Temperature: 6.75°C, Humidity: 91%.\u001b[0m\n",
      "\n",
      "\u001b[1m> Finished chain.\u001b[0m\n"
     ]
    },
    {
     "data": {
      "text/plain": [
       "{'input': 'What is the current weather in London?',\n",
       " 'output': 'The current weather in London is: few clouds, Temperature: 6.75°C, Humidity: 91%.'}"
      ]
     },
     "execution_count": 406,
     "metadata": {},
     "output_type": "execute_result"
    }
   ],
   "source": [
    "agent_executer.invoke({\"input\": query})"
   ]
  }
 ],
 "metadata": {
  "kernelspec": {
   "display_name": "base",
   "language": "python",
   "name": "python3"
  },
  "language_info": {
   "codemirror_mode": {
    "name": "ipython",
    "version": 3
   },
   "file_extension": ".py",
   "mimetype": "text/x-python",
   "name": "python",
   "nbconvert_exporter": "python",
   "pygments_lexer": "ipython3",
   "version": "3.12.8"
  }
 },
 "nbformat": 4,
 "nbformat_minor": 2
}
