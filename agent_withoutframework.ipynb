{
 "cells": [
  {
   "cell_type": "code",
   "execution_count": 64,
   "metadata": {},
   "outputs": [],
   "source": [
    "import datetime\n",
    "import requests\n",
    "import pytz"
   ]
  },
  {
   "cell_type": "code",
   "execution_count": 65,
   "metadata": {},
   "outputs": [],
   "source": [
    "# Tools\n",
    "def get_system_time(format: str = \"%y-%m-%d %H:%M:%S\"):\n",
    "    \"\"\"Returns the current date and time in the specified format.\"\"\"\n",
    "    current_time = datetime.datetime.now()\n",
    "    return current_time.strftime(format)"
   ]
  },
  {
   "cell_type": "code",
   "execution_count": 66,
   "metadata": {},
   "outputs": [],
   "source": [
    "def get_current_location():\n",
    "    \"\"\"Returns the current location (city and country) based on the user's IP address.\"\"\"\n",
    "    try:\n",
    "        response = requests.get(\"https://ipinfo.io\")\n",
    "        data = response.json()\n",
    "        city = data.get(\"city\", \"Unknown City\")\n",
    "        country = data.get(\"country\", \"Unknown Country\")\n",
    "        return f\"Current location: {city}, {country}\"\n",
    "    except Exception as e:\n",
    "        return f\"Error fetching location: {e}\""
   ]
  },
  {
   "cell_type": "code",
   "execution_count": 67,
   "metadata": {},
   "outputs": [],
   "source": [
    "def get_current_weather(location: str):\n",
    "    \"\"\"Returns the current weather for the specified location.\"\"\"\n",
    "    try:\n",
    "        api_key = \"b00cec05979ffc064beabca84270ef62\"\n",
    "        url = f\"http://api.openweathermap.org/data/2.5/weather?q={location}&appid={api_key}&units=metric\"\n",
    "        response = requests.get(url)\n",
    "        data = response.json()\n",
    "\n",
    "        if data.get(\"cod\") != 200:\n",
    "            return f\"Error: {data.get('message', 'Unknown error')}\"\n",
    "\n",
    "        weather = data[\"weather\"][0][\"description\"]\n",
    "        temperature = data[\"main\"][\"temp\"]\n",
    "        humidity = data[\"main\"][\"humidity\"]\n",
    "        return f\"Weather in {location}: {weather}, Temperature: {temperature}°C, Humidity: {humidity}%\"\n",
    "    except Exception as e:\n",
    "        return f\"Error fetching weather: {e}\""
   ]
  },
  {
   "cell_type": "code",
   "execution_count": 68,
   "metadata": {},
   "outputs": [],
   "source": [
    "\n",
    "def get_time_in_timezone(timezone: str, format: str = \"%y-%m-%d %H:%M:%S\"):\n",
    "    \"\"\"Returns the current time in the specified timezone.\"\"\"\n",
    "    city_timezone_mapping = {\n",
    "        \"london\": \"Europe/London\",\n",
    "        \"new york\": \"America/New_York\",\n",
    "        \"tokyo\": \"Asia/Tokyo\",\n",
    "        \"sydney\": \"Australia/Sydney\",\n",
    "        \"paris\": \"Europe/Paris\"\n",
    "    }\n",
    "\n",
    "    try:\n",
    "        tz_name = city_timezone_mapping.get(timezone.lower().strip(), timezone)\n",
    "        tz = pytz.timezone(tz_name)\n",
    "        current_time = datetime.datetime.now(tz)\n",
    "        return current_time.strftime(format)\n",
    "    except pytz.UnknownTimeZoneError:\n",
    "        return f\"Unknown timezone: {timezone}\""
   ]
  },
  {
   "cell_type": "code",
   "execution_count": 69,
   "metadata": {},
   "outputs": [],
   "source": [
    "\n",
    "# Message History\n",
    "class MessageHistory:\n",
    "    def __init__(self):\n",
    "        self.messages = []\n",
    "\n",
    "    def add_message(self, sender, content):\n",
    "        self.messages.append({\"sender\": sender, \"content\": content})\n",
    "\n",
    "    def display(self):\n",
    "        for message in self.messages:\n",
    "            print(f\"{message['sender'].upper()}: {message['content']}\")"
   ]
  },
  {
   "cell_type": "code",
   "execution_count": 70,
   "metadata": {},
   "outputs": [],
   "source": [
    "\n",
    "# Extract location from query\n",
    "def extract_location(query, keyword):\n",
    "    match = re.search(rf\"{keyword} in ([a-zA-Z\\s]+)[?.!]*\", query, re.IGNORECASE)\n",
    "    if match:\n",
    "        return match.group(1).strip()\n",
    "    return None"
   ]
  },
  {
   "cell_type": "code",
   "execution_count": 71,
   "metadata": {},
   "outputs": [],
   "source": [
    "\n",
    "# Agent Logic\n",
    "def agent(query):\n",
    "    tools = {\n",
    "        \"current time\": get_system_time,\n",
    "        \"current location\": get_current_location,\n",
    "        \"weather\": get_current_weather,\n",
    "        \"timezone\": get_time_in_timezone\n",
    "    }\n",
    "\n",
    "    if \"current time in\" in query.lower():\n",
    "        location = extract_location(query, \"current time\")\n",
    "        if location:\n",
    "            return tools[\"timezone\"](timezone=location)\n",
    "    elif \"current time\" in query.lower():\n",
    "        return tools[\"current time\"]()\n",
    "    elif \"current location\" in query.lower():\n",
    "        return tools[\"current location\"]()\n",
    "    elif \"weather in\" in query.lower():\n",
    "        location = extract_location(query, \"weather\")\n",
    "        if location:\n",
    "            return tools[\"weather\"](location)\n",
    "\n",
    "    return \"I'm not sure how to handle that request.\""
   ]
  },
  {
   "cell_type": "code",
   "execution_count": 72,
   "metadata": {},
   "outputs": [
    {
     "name": "stdout",
     "output_type": "stream",
     "text": [
      "USER: What is the current time in London?\n",
      "AGENT: 25-02-04 02:40:04\n"
     ]
    }
   ],
   "source": [
    "\n",
    "# Query Execution\n",
    "message_history = MessageHistory()\n",
    "query = \"What is the current time in London?\"\n",
    "message_history.add_message(\"user\", query)\n",
    "\n",
    "response = agent(query)\n",
    "message_history.add_message(\"agent\", response)\n",
    "\n",
    "# Displaying conversation history\n",
    "message_history.display()\n"
   ]
  }
 ],
 "metadata": {
  "kernelspec": {
   "display_name": "base",
   "language": "python",
   "name": "python3"
  },
  "language_info": {
   "codemirror_mode": {
    "name": "ipython",
    "version": 3
   },
   "file_extension": ".py",
   "mimetype": "text/x-python",
   "name": "python",
   "nbconvert_exporter": "python",
   "pygments_lexer": "ipython3",
   "version": "3.12.8"
  }
 },
 "nbformat": 4,
 "nbformat_minor": 2
}
